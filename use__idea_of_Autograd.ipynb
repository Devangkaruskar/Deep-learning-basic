{
  "cells": [
    {
      "cell_type": "code",
      "execution_count": null,
      "metadata": {
        "id": "hhUmMImBiGdw"
      },
      "outputs": [],
      "source": [
        "import autograd.numpy as np\n",
        "from autograd import grad, elementwise_grad\n",
        "import autograd.numpy.random as npr\n",
        "from autograd.misc.optimizers import adam\n",
        "import time"
      ]
    },
    {
      "cell_type": "code",
      "execution_count": null,
      "metadata": {
        "id": "yn9w04sliGdx"
      },
      "outputs": [],
      "source": [
        "def init_random_params(scale, layer_sizes, rs=npr.RandomState(0)):\n",
        "#Define a list of (weights, biases tuples, one for each layer.\"\n",
        "    return [(rs.randn(insize, outsize) * scale,   # weight matrix\n",
        "             rs.randn(outsize) * scale)           # bias vector\n",
        "            for insize, outsize in zip(layer_sizes[:-1], layer_sizes[1:])]"
      ]
    },
    {
      "cell_type": "code",
      "execution_count": null,
      "metadata": {
        "id": "kOMfZN4riGdy",
        "scrolled": true
      },
      "outputs": [],
      "source": [
        "#layer_sizes=[1, 8, 1]\n",
        "#layer_sizes"
      ]
    },
    {
      "cell_type": "code",
      "execution_count": null,
      "metadata": {
        "id": "dF4l1P6HiGdz"
      },
      "outputs": [],
      "source": [
        "# Define a sigmoid activation function. Can also be used from library. This is a simple definition.\n",
        "def sigmoid_activation(x):\n",
        "    \"see https://arxiv.org/pdf/1710.05941.pdf\"\n",
        "    return x / (1.0 + np.exp(-x))"
      ]
    },
    {
      "cell_type": "code",
      "execution_count": null,
      "metadata": {
        "id": "vOvIBm8ViGd0"
      },
      "outputs": [],
      "source": [
        "# Define function y based on neural networks. Outputs are linearly related to biases and weights.\n",
        "# Outputs of one layer are used as inputs to another layer via activation function.\n",
        "def y(params, inputs):\n",
        "    \"Neural network functions\"\n",
        "    for W, b in params:\n",
        "        outputs = np.dot(inputs, W) + b\n",
        "        inputs = sigmoid_activation(outputs)    \n",
        "    return outputs"
      ]
    },
    {
      "cell_type": "code",
      "execution_count": null,
      "metadata": {
        "id": "KjaHBFIciGd0"
      },
      "outputs": [],
      "source": [
        "# Make an initial guess of params:\n",
        "params = init_random_params(0.1, layer_sizes=[1, 8, 1])"
      ]
    },
    {
      "cell_type": "code",
      "execution_count": null,
      "metadata": {
        "id": "pURcfl3ViGd1"
      },
      "outputs": [],
      "source": [
        "dydx = elementwise_grad(y, 1) # this is the partial derivative of y w/t x"
      ]
    },
    {
      "cell_type": "code",
      "execution_count": null,
      "metadata": {
        "id": "-D-8KhvviGd1"
      },
      "outputs": [],
      "source": [
        "y0 = 0.0\n",
        "x = np.linspace(0, 20).reshape((-1, 1))"
      ]
    },
    {
      "cell_type": "code",
      "execution_count": null,
      "metadata": {
        "id": "rfwM24oxiGd2"
      },
      "outputs": [],
      "source": [
        "# Define the objective function.\n",
        "def lossfunction(params, step):\n",
        "    # The objective is to minimize to zero.\n",
        "    # dydx = -k * exp(-x)\n",
        "    # dy/dx = 2x^3 - exp(-x) # This is the real equation that we want to solve in the current notebook.\n",
        "    zeq = dydx(params, x) - (2*(x**4) + np.exp(-x))\n",
        "    ic = y(params, 0) - y0 # For my solution i.e. a set of paramaters 'params' this condition should be satisfied\n",
        "    # since this is the intial condition.\n",
        "    # If I minimize zeq and ic together or in some combined form, I will get a set of 'params' that give me\n",
        "    # solution of dy/dx\n",
        "    # Let us setup the loss function as zeq + ic\n",
        "    return np.mean(zeq**2) + ic**2"
      ]
    },
    {
      "cell_type": "code",
      "execution_count": null,
      "metadata": {
        "id": "YwfNQaueiGd2"
      },
      "outputs": [],
      "source": [
        "def callback(params, step, g):\n",
        "    if step % 500 == 0:\n",
        "        print(\"Iteration {0:3d} lossfunction {1}\".format(step,\n",
        "                                                      lossfunction(params, step)))"
      ]
    },
    {
      "cell_type": "code",
      "execution_count": null,
      "metadata": {
        "colab": {
          "base_uri": "https://localhost:8080/"
        },
        "id": "-JpUmzvJiGd2",
        "outputId": "96db3321-496a-42d0-f463-f9bc59889b5c",
        "scrolled": false
      },
      "outputs": [
        {
          "name": "stdout",
          "output_type": "stream",
          "text": [
            "Iteration   0 lossfunction [[1.22020821e+10]]\n",
            "Iteration 500 lossfunction [[9.63441795e+09]]\n"
          ]
        },
        {
          "name": "stderr",
          "output_type": "stream",
          "text": [
            "/usr/local/lib/python3.7/dist-packages/autograd/numpy/numpy_vjps.py:53: RuntimeWarning: overflow encountered in square\n",
            "  lambda ans, x, y : unbroadcast_f(y, lambda g: - g * x / y**2))\n"
          ]
        },
        {
          "name": "stdout",
          "output_type": "stream",
          "text": [
            "Iteration 1000 lossfunction [[7.59218185e+09]]\n",
            "Iteration 1500 lossfunction [[7.3574958e+09]]\n"
          ]
        },
        {
          "name": "stderr",
          "output_type": "stream",
          "text": [
            "/usr/local/lib/python3.7/dist-packages/autograd/tracer.py:48: RuntimeWarning: overflow encountered in power\n",
            "  return f_raw(*args, **kwargs)\n"
          ]
        },
        {
          "name": "stdout",
          "output_type": "stream",
          "text": [
            "Iteration 2000 lossfunction [[7.17193705e+09]]\n",
            "Iteration 2500 lossfunction [[6.9762008e+09]]\n"
          ]
        },
        {
          "name": "stderr",
          "output_type": "stream",
          "text": [
            "/usr/local/lib/python3.7/dist-packages/autograd/tracer.py:48: RuntimeWarning: overflow encountered in exp\n",
            "  return f_raw(*args, **kwargs)\n"
          ]
        },
        {
          "name": "stdout",
          "output_type": "stream",
          "text": [
            "Iteration 3000 lossfunction [[6.78512758e+09]]\n",
            "Iteration 3500 lossfunction [[6.61094929e+09]]\n"
          ]
        },
        {
          "name": "stderr",
          "output_type": "stream",
          "text": [
            "/usr/local/lib/python3.7/dist-packages/autograd/numpy/numpy_vjps.py:53: RuntimeWarning: overflow encountered in multiply\n",
            "  lambda ans, x, y : unbroadcast_f(y, lambda g: - g * x / y**2))\n",
            "/usr/local/lib/python3.7/dist-packages/autograd/numpy/numpy_vjps.py:53: RuntimeWarning: invalid value encountered in true_divide\n",
            "  lambda ans, x, y : unbroadcast_f(y, lambda g: - g * x / y**2))\n"
          ]
        },
        {
          "name": "stdout",
          "output_type": "stream",
          "text": [
            "Iteration 4000 lossfunction [[nan]]\n",
            "Iteration 4500 lossfunction [[nan]]\n",
            "Iteration 5000 lossfunction [[nan]]\n",
            "Iteration 5500 lossfunction [[nan]]\n",
            "Iteration 6000 lossfunction [[nan]]\n",
            "Iteration 6500 lossfunction [[nan]]\n",
            "Iteration 7000 lossfunction [[nan]]\n",
            "Iteration 7500 lossfunction [[nan]]\n",
            "Iteration 8000 lossfunction [[nan]]\n",
            "Iteration 8500 lossfunction [[nan]]\n",
            "Iteration 9000 lossfunction [[nan]]\n",
            "Iteration 9500 lossfunction [[nan]]\n",
            " duration for 8 nodes= 47.40805649757385\n",
            " error for 8 nodes= nan\n"
          ]
        }
      ],
      "source": [
        "#ODE solver for 8 nodes\n",
        "#grad(losfunciton) = d J(theta) / d theta\n",
        "begin_at=time.time()\n",
        "params = adam(grad(lossfunction), params,\n",
        "              step_size=0.1, num_iters=10000, callback=callback) \n",
        "end_at=time.time()\n",
        "duration_8=end_at-begin_at\n",
        "error_8=float(lossfunction(params,100000))\n",
        "print(f\" duration for 8 nodes= {duration_8}\")\n",
        "print(f\" error for 8 nodes= {error_8}\")"
      ]
    },
    {
      "cell_type": "code",
      "execution_count": null,
      "metadata": {
        "colab": {
          "base_uri": "https://localhost:8080/",
          "height": 290
        },
        "id": "XFFvgQZWiGd3",
        "outputId": "bb3c0b19-b01a-495f-c065-4f5d5282781f",
        "scrolled": true
      },
      "outputs": [
        {
          "data": {
            "image/png": "[encoded data removed]",
            "text/plain": [
              "<Figure size 432x288 with 1 Axes>"
            ]
          },
          "metadata": {},
          "output_type": "display_data"
        }
      ],
      "source": [
        "#Plot for 8 nodes\n",
        "tfit = np.linspace(0, 20).reshape(-1, 1)\n",
        "import matplotlib.pyplot as plt\n",
        "plt.plot(tfit, y(params, tfit), label='soln') \n",
        "plt.plot(tfit, (((2*x**5)/2)-np.exp(-x)+y0+1), 'r--', label='analytical soln')\n",
        "plt.legend()\n",
        "plt.xlabel('x')\n",
        "plt.ylabel('$y$')\n",
        "plt.xlim([0, 20])\n",
        "plt.savefig('odenn.png')"
      ]
    },
    {
      "cell_type": "markdown",
      "metadata": {
        "id": "hnYyzKg9iGd3"
      },
      "source": [
        "### Number of nodes 10"
      ]
    },
    {
      "cell_type": "code",
      "execution_count": null,
      "metadata": {
        "id": "qELf2a4aiGd4"
      },
      "outputs": [],
      "source": [
        "# Make an initial guess of params:\n",
        "params = init_random_params(0.1, layer_sizes=[1, 10, 1])"
      ]
    },
    {
      "cell_type": "code",
      "execution_count": null,
      "metadata": {
        "colab": {
          "base_uri": "https://localhost:8080/"
        },
        "id": "4MGXa4nZiGd4",
        "outputId": "7da51151-8a80-4c7a-8cf7-c485125ee336",
        "scrolled": true
      },
      "outputs": [
        {
          "name": "stdout",
          "output_type": "stream",
          "text": [
            "Iteration   0 lossfunction [[1.22020825e+10]]\n",
            "Iteration 500 lossfunction [[9.67170461e+09]]\n",
            "Iteration 1000 lossfunction [[7.73518008e+09]]\n",
            "Iteration 1500 lossfunction [[7.65606359e+09]]\n",
            "Iteration 2000 lossfunction [[7.65473443e+09]]\n",
            "Iteration 2500 lossfunction [[7.65362918e+09]]\n",
            "Iteration 3000 lossfunction [[7.6525635e+09]]\n",
            "Iteration 3500 lossfunction [[7.65151106e+09]]\n",
            "Iteration 4000 lossfunction [[7.65045836e+09]]\n",
            "Iteration 4500 lossfunction [[7.64941214e+09]]\n",
            "Iteration 5000 lossfunction [[7.64834556e+09]]\n",
            "Iteration 5500 lossfunction [[7.64728746e+09]]\n",
            "Iteration 6000 lossfunction [[7.64621614e+09]]\n",
            "Iteration 6500 lossfunction [[7.64517994e+09]]\n",
            "Iteration 7000 lossfunction [[7.64409311e+09]]\n",
            "Iteration 7500 lossfunction [[7.64302716e+09]]\n",
            "Iteration 8000 lossfunction [[7.64196015e+09]]\n",
            "Iteration 8500 lossfunction [[7.64093446e+09]]\n",
            "Iteration 9000 lossfunction [[7.63982646e+09]]\n",
            "Iteration 9500 lossfunction [[7.63876017e+09]]\n",
            "Iteration 10000 lossfunction [[7.63770458e+09]]\n",
            "Iteration 10500 lossfunction [[7.63664978e+09]]\n",
            "Iteration 11000 lossfunction [[7.63557637e+09]]\n",
            "Iteration 11500 lossfunction [[7.6345213e+09]]\n",
            "Iteration 12000 lossfunction [[7.63345097e+09]]\n",
            "Iteration 12500 lossfunction [[7.6324334e+09]]\n",
            "Iteration 13000 lossfunction [[7.63132976e+09]]\n",
            "Iteration 13500 lossfunction [[7.63043883e+09]]\n",
            "Iteration 14000 lossfunction [[7.62935907e+09]]\n",
            "Iteration 14500 lossfunction [[7.62815346e+09]]\n",
            "Iteration 15000 lossfunction [[7.62714465e+09]]\n",
            "Iteration 15500 lossfunction [[7.62603853e+09]]\n",
            "Iteration 16000 lossfunction [[7.6250358e+09]]\n",
            "Iteration 16500 lossfunction [[7.62392688e+09]]\n",
            "Iteration 17000 lossfunction [[7.62287072e+09]]\n",
            "Iteration 17500 lossfunction [[7.62183174e+09]]\n",
            "Iteration 18000 lossfunction [[7.62077498e+09]]\n",
            "Iteration 18500 lossfunction [[7.6197062e+09]]\n",
            "Iteration 19000 lossfunction [[7.61867663e+09]]\n",
            "Iteration 19500 lossfunction [[7.61761335e+09]]\n",
            " duration for 8 nodes= 84.48685479164124\n",
            " error for 8 nodes= 7616555412.815166\n"
          ]
        }
      ],
      "source": [
        "#ODE solver 10 nodes\n",
        "begin_at = time.time() \n",
        "params = adam(grad(lossfunction), params,\n",
        "              step_size=0.1, num_iters=20000, callback=callback) \n",
        "end_at = time.time()\n",
        "duration_10 = end_at-begin_at\n",
        "error_10 = float(lossfunction(params, 100000))\n",
        "print(f\" duration for 8 nodes= {duration_10}\")\n",
        "print(f\" error for 8 nodes= {error_10}\")"
      ]
    },
    {
      "cell_type": "code",
      "execution_count": null,
      "metadata": {
        "colab": {
          "base_uri": "https://localhost:8080/",
          "height": 290
        },
        "id": "qnZBPGSkiGd4",
        "outputId": "f5b9af57-47fd-4626-c375-2ea4f783f878"
      },
      "outputs": [
        {
          "data": {
            "image/png": "[encoded data removed]",
            "text/plain": [
              "<Figure size 432x288 with 1 Axes>"
            ]
          },
          "metadata": {},
          "output_type": "display_data"
        }
      ],
      "source": [
        "tfit = np.linspace(0, 20).reshape(-1, 1)\n",
        "import matplotlib.pyplot as plt\n",
        "plt.plot(tfit, y(params, tfit), label='soln') \n",
        "plt.plot(tfit, (((2*x**5)/5)-np.exp(-x)+y0+1), 'r--', label='analytical soln')\n",
        "plt.legend()\n",
        "plt.xlabel('x')\n",
        "plt.ylabel('$y$')\n",
        "plt.xlim([0, 20])\n",
        "plt.savefig('odenn.png')"
      ]
    },
    {
      "cell_type": "code",
      "execution_count": null,
      "metadata": {
        "id": "WlpDRha387FA"
      },
      "outputs": [],
      "source": [
        "y_10=y(params,tfit)"
      ]
    },
    {
      "cell_type": "markdown",
      "metadata": {
        "id": "_Q7Z4NCGiGd4"
      },
      "source": [
        "### Number of nodes 20"
      ]
    },
    {
      "cell_type": "code",
      "execution_count": null,
      "metadata": {
        "id": "BOnD0TbSiGd5"
      },
      "outputs": [],
      "source": [
        "# Make an initial guess of params:\n",
        "params = init_random_params(0.1, layer_sizes=[1, 20, 1])"
      ]
    },
    {
      "cell_type": "code",
      "execution_count": null,
      "metadata": {
        "colab": {
          "base_uri": "https://localhost:8080/"
        },
        "id": "kN9xa2tziGd5",
        "outputId": "d0e35b43-c589-403d-cf29-4ae96d858b1e",
        "scrolled": true
      },
      "outputs": [
        {
          "name": "stdout",
          "output_type": "stream",
          "text": [
            "Iteration   0 lossfunction [[1.22020775e+10]]\n",
            "Iteration 500 lossfunction [[8.64252479e+09]]\n",
            "Iteration 1000 lossfunction [[7.65657941e+09]]\n",
            "Iteration 1500 lossfunction [[7.65312295e+09]]\n",
            "Iteration 2000 lossfunction [[7.6511462e+09]]\n",
            "Iteration 2500 lossfunction [[7.64919933e+09]]\n",
            "Iteration 3000 lossfunction [[7.64729606e+09]]\n",
            "Iteration 3500 lossfunction [[7.64535714e+09]]\n",
            "Iteration 4000 lossfunction [[7.6434111e+09]]\n",
            "Iteration 4500 lossfunction [[7.64151873e+09]]\n",
            "Iteration 5000 lossfunction [[7.63957551e+09]]\n",
            "Iteration 5500 lossfunction [[7.63766645e+09]]\n",
            "Iteration 6000 lossfunction [[7.63572079e+09]]\n",
            "Iteration 6500 lossfunction [[7.63380656e+09]]\n",
            "Iteration 7000 lossfunction [[7.63190511e+09]]\n",
            "Iteration 7500 lossfunction [[7.62998128e+09]]\n",
            "Iteration 8000 lossfunction [[7.62806794e+09]]\n",
            "Iteration 8500 lossfunction [[7.62615186e+09]]\n",
            "Iteration 9000 lossfunction [[7.62424716e+09]]\n",
            "Iteration 9500 lossfunction [[7.62244669e+09]]\n",
            " duration for 20 nodes= 45.4452748298645\n",
            " error for 20 nodes= 7620427174.070216\n"
          ]
        }
      ],
      "source": [
        "# ODE solver for 20 nodes\n",
        "begin_at = time.time() \n",
        "params = adam(grad(lossfunction), params,\n",
        "              step_size=0.1, num_iters=10000, callback=callback) \n",
        "end_at = time.time()\n",
        "duration_20 = end_at-begin_at\n",
        "error_20 = float(lossfunction(params, 100000))\n",
        "print(f\" duration for 20 nodes= {duration_20}\")\n",
        "print(f\" error for 20 nodes= {error_20}\")"
      ]
    },
    {
      "cell_type": "code",
      "execution_count": null,
      "metadata": {
        "colab": {
          "base_uri": "https://localhost:8080/",
          "height": 290
        },
        "id": "nHty_PCpiGd5",
        "outputId": "57d3ddf5-4d6a-436a-d201-d63299b0e2de"
      },
      "outputs": [
        {
          "data": {
            "image/png": "[encoded data removed]",
            "text/plain": [
              "<Figure size 432x288 with 1 Axes>"
            ]
          },
          "metadata": {},
          "output_type": "display_data"
        }
      ],
      "source": [
        "#plot for 20 nodes\n",
        "tfit = np.linspace(0, 20).reshape(-1, 1)\n",
        "import matplotlib.pyplot as plt\n",
        "plt.plot(tfit, y(params, tfit), label='soln') \n",
        "plt.plot(tfit, (((2*x**5)/5)-np.exp(-x)+y0+1), 'r--', label='analytical soln')\n",
        "plt.legend()\n",
        "plt.xlabel('x')\n",
        "plt.ylabel('$y$')\n",
        "plt.xlim([0, 20])\n",
        "plt.savefig('odenn.png')"
      ]
    },
    {
      "cell_type": "code",
      "execution_count": null,
      "metadata": {
        "id": "CVeetGdoiGd5"
      },
      "outputs": [],
      "source": [
        "y_20=y(params,tfit)"
      ]
    },
    {
      "cell_type": "markdown",
      "metadata": {
        "id": "2fa7EQX37TSY"
      },
      "source": [
        "# No. of nodes 30 "
      ]
    },
    {
      "cell_type": "code",
      "execution_count": null,
      "metadata": {
        "id": "aroRkrBq7fwe"
      },
      "outputs": [],
      "source": [
        "# Make an initial guess of params:\n",
        "params = init_random_params(0.1, layer_sizes=[1, 30, 1])"
      ]
    },
    {
      "cell_type": "code",
      "execution_count": null,
      "metadata": {
        "colab": {
          "base_uri": "https://localhost:8080/"
        },
        "id": "QsqxQtKQ7rlQ",
        "outputId": "558b48c0-de2a-48d0-e6fc-af84d0f3dd02"
      },
      "outputs": [
        {
          "name": "stdout",
          "output_type": "stream",
          "text": [
            "Iteration   0 lossfunction [[1.22020805e+10]]\n",
            "Iteration 500 lossfunction [[7.74684415e+09]]\n",
            "Iteration 1000 lossfunction [[7.18244901e+09]]\n"
          ]
        },
        {
          "name": "stderr",
          "output_type": "stream",
          "text": [
            "/usr/local/lib/python3.7/dist-packages/autograd/numpy/numpy_vjps.py:53: RuntimeWarning: overflow encountered in square\n",
            "  lambda ans, x, y : unbroadcast_f(y, lambda g: - g * x / y**2))\n",
            "/usr/local/lib/python3.7/dist-packages/autograd/tracer.py:48: RuntimeWarning: overflow encountered in exp\n",
            "  return f_raw(*args, **kwargs)\n"
          ]
        },
        {
          "name": "stdout",
          "output_type": "stream",
          "text": [
            "Iteration 1500 lossfunction [[6.76167346e+09]]\n",
            "Iteration 2000 lossfunction [[6.24852721e+09]]\n",
            "Iteration 2500 lossfunction [[5.70267418e+09]]\n",
            "Iteration 3000 lossfunction [[5.17825543e+09]]\n"
          ]
        },
        {
          "name": "stderr",
          "output_type": "stream",
          "text": [
            "/usr/local/lib/python3.7/dist-packages/autograd/tracer.py:48: RuntimeWarning: overflow encountered in power\n",
            "  return f_raw(*args, **kwargs)\n"
          ]
        },
        {
          "name": "stdout",
          "output_type": "stream",
          "text": [
            "Iteration 3500 lossfunction [[4.71067673e+09]]\n",
            "Iteration 4000 lossfunction [[4.32178352e+09]]\n",
            "Iteration 4500 lossfunction [[4.02141842e+09]]\n",
            "Iteration 5000 lossfunction [[3.81015985e+09]]\n",
            "Iteration 5500 lossfunction [[3.67647367e+09]]\n",
            "Iteration 6000 lossfunction [[3.60335464e+09]]\n",
            "Iteration 6500 lossfunction [[3.56880107e+09]]\n",
            "Iteration 7000 lossfunction [[3.55562508e+09]]\n",
            "Iteration 7500 lossfunction [[3.55068605e+09]]\n",
            "Iteration 8000 lossfunction [[3.54811735e+09]]\n",
            "Iteration 8500 lossfunction [[3.54709223e+09]]\n",
            "Iteration 9000 lossfunction [[3.54672299e+09]]\n",
            "Iteration 9500 lossfunction [[3.54512572e+09]]\n",
            " duration for 30 nodes= 41.780354738235474\n",
            " error for 30 nodes= 3544773018.9889865\n"
          ]
        }
      ],
      "source": [
        "# ODE solver for 30 nodes\n",
        "begin_at = time.time() \n",
        "params = adam(grad(lossfunction), params,\n",
        "              step_size=0.1, num_iters=10000, callback=callback) \n",
        "end_at = time.time()\n",
        "duration_30 = end_at-begin_at\n",
        "error_30 = float(lossfunction(params, 100000))\n",
        "print(f\" duration for 30 nodes= {duration_30}\")\n",
        "print(f\" error for 30 nodes= {error_30}\")"
      ]
    },
    {
      "cell_type": "code",
      "execution_count": null,
      "metadata": {
        "colab": {
          "base_uri": "https://localhost:8080/",
          "height": 325
        },
        "id": "_MT-RzNM8QOJ",
        "outputId": "8900a609-856e-4857-e212-40932c31482b"
      },
      "outputs": [
        {
          "name": "stderr",
          "output_type": "stream",
          "text": [
            "/usr/local/lib/python3.7/dist-packages/autograd/tracer.py:48: RuntimeWarning: overflow encountered in exp\n",
            "  return f_raw(*args, **kwargs)\n"
          ]
        },
        {
          "data": {
            "image/png": "[encoded data removed]",
            "text/plain": [
              "<Figure size 432x288 with 1 Axes>"
            ]
          },
          "metadata": {},
          "output_type": "display_data"
        }
      ],
      "source": [
        "#plot for 30 nodes\n",
        "tfit = np.linspace(0, 20).reshape(-1, 1)\n",
        "import matplotlib.pyplot as plt\n",
        "plt.plot(tfit, y(params, tfit), label='soln') \n",
        "plt.plot(tfit, (((2*x**5)/5)-np.exp(-x)+y0+1), 'r--', label='analytical soln')\n",
        "plt.legend()\n",
        "plt.xlabel('x')\n",
        "plt.ylabel('$y$')\n",
        "plt.xlim([0, 20])\n",
        "plt.savefig('odenn.png')"
      ]
    },
    {
      "cell_type": "code",
      "execution_count": null,
      "metadata": {
        "colab": {
          "base_uri": "https://localhost:8080/"
        },
        "id": "z4EIDexv8yYF",
        "outputId": "3a50707d-e61d-4ce2-ccd3-57f040573337"
      },
      "outputs": [
        {
          "name": "stderr",
          "output_type": "stream",
          "text": [
            "/usr/local/lib/python3.7/dist-packages/autograd/tracer.py:48: RuntimeWarning: overflow encountered in exp\n",
            "  return f_raw(*args, **kwargs)\n"
          ]
        }
      ],
      "source": [
        "y_30=y(params,tfit)"
      ]
    },
    {
      "cell_type": "markdown",
      "metadata": {
        "id": "lOYNoDbh9k9R"
      },
      "source": [
        "# No. of nodes 40"
      ]
    },
    {
      "cell_type": "code",
      "execution_count": null,
      "metadata": {
        "id": "B2vTf6Co9b_J"
      },
      "outputs": [],
      "source": [
        "# Make an initial guess of params:\n",
        "params = init_random_params(0.1, layer_sizes=[1, 40, 1])"
      ]
    },
    {
      "cell_type": "code",
      "execution_count": null,
      "metadata": {
        "colab": {
          "base_uri": "https://localhost:8080/"
        },
        "id": "DXN3Aj7Q971I",
        "outputId": "90a5932e-7953-4c5b-ab53-a6c7f63f646d"
      },
      "outputs": [
        {
          "name": "stdout",
          "output_type": "stream",
          "text": [
            "Iteration   0 lossfunction [[1.22020755e+10]]\n",
            "Iteration 500 lossfunction [[7.69892611e+09]]\n",
            "Iteration 1000 lossfunction [[7.19924215e+09]]\n"
          ]
        },
        {
          "name": "stderr",
          "output_type": "stream",
          "text": [
            "/usr/local/lib/python3.7/dist-packages/autograd/numpy/numpy_vjps.py:53: RuntimeWarning: overflow encountered in square\n",
            "  lambda ans, x, y : unbroadcast_f(y, lambda g: - g * x / y**2))\n"
          ]
        },
        {
          "name": "stdout",
          "output_type": "stream",
          "text": [
            "Iteration 1500 lossfunction [[6.76094269e+09]]\n"
          ]
        },
        {
          "name": "stderr",
          "output_type": "stream",
          "text": [
            "/usr/local/lib/python3.7/dist-packages/autograd/tracer.py:48: RuntimeWarning: overflow encountered in exp\n",
            "  return f_raw(*args, **kwargs)\n"
          ]
        },
        {
          "name": "stdout",
          "output_type": "stream",
          "text": [
            "Iteration 2000 lossfunction [[6.25783758e+09]]\n",
            "Iteration 2500 lossfunction [[5.69547846e+09]]\n",
            "Iteration 3000 lossfunction [[5.13630873e+09]]\n",
            "Iteration 3500 lossfunction [[4.6127659e+09]]\n"
          ]
        },
        {
          "name": "stderr",
          "output_type": "stream",
          "text": [
            "/usr/local/lib/python3.7/dist-packages/autograd/tracer.py:48: RuntimeWarning: overflow encountered in power\n",
            "  return f_raw(*args, **kwargs)\n"
          ]
        },
        {
          "name": "stdout",
          "output_type": "stream",
          "text": [
            "Iteration 4000 lossfunction [[4.14819026e+09]]\n",
            "Iteration 4500 lossfunction [[3.75738741e+09]]\n",
            "Iteration 5000 lossfunction [[3.44525028e+09]]\n",
            "Iteration 5500 lossfunction [[3.21015959e+09]]\n",
            "Iteration 6000 lossfunction [[3.04666195e+09]]\n",
            "Iteration 6500 lossfunction [[2.94405499e+09]]\n",
            "Iteration 7000 lossfunction [[2.88517213e+09]]\n",
            "Iteration 7500 lossfunction [[2.85158973e+09]]\n",
            "Iteration 8000 lossfunction [[2.83128638e+09]]\n",
            "Iteration 8500 lossfunction [[2.8166959e+09]]\n",
            "Iteration 9000 lossfunction [[2.80459705e+09]]\n",
            "Iteration 9500 lossfunction [[2.79367579e+09]]\n",
            " duration for 40 nodes= 43.40339469909668\n",
            " error for 40 nodes= 2783857873.5547113\n"
          ]
        }
      ],
      "source": [
        "# ODE solver for 40 nodes\n",
        "begin_at = time.time() \n",
        "params = adam(grad(lossfunction), params,\n",
        "              step_size=0.1, num_iters=10000, callback=callback) \n",
        "end_at = time.time()\n",
        "duration_40 = end_at-begin_at\n",
        "error_40 = float(lossfunction(params, 100000))\n",
        "print(f\" duration for 40 nodes= {duration_40}\")\n",
        "print(f\" error for 40 nodes= {error_40}\")"
      ]
    },
    {
      "cell_type": "code",
      "execution_count": null,
      "metadata": {
        "colab": {
          "base_uri": "https://localhost:8080/",
          "height": 325
        },
        "id": "Ya5A7ZsC9jnt",
        "outputId": "d7de4f3c-1c4e-4852-bf13-48bfedd32b24"
      },
      "outputs": [
        {
          "name": "stderr",
          "output_type": "stream",
          "text": [
            "/usr/local/lib/python3.7/dist-packages/autograd/tracer.py:48: RuntimeWarning: overflow encountered in exp\n",
            "  return f_raw(*args, **kwargs)\n"
          ]
        },
        {
          "data": {
            "image/png": "[encoded data removed]",
            "text/plain": [
              "<Figure size 432x288 with 1 Axes>"
            ]
          },
          "metadata": {},
          "output_type": "display_data"
        }
      ],
      "source": [
        "#plot for 40 nodes\n",
        "tfit = np.linspace(0, 20).reshape(-1, 1)\n",
        "import matplotlib.pyplot as plt\n",
        "plt.plot(tfit, y(params, tfit), label='soln') \n",
        "plt.plot(tfit, (((2*x**5)/5)-np.exp(-x)+y0+1), 'r--', label='analytical soln')\n",
        "plt.legend()\n",
        "plt.xlabel('x')\n",
        "plt.ylabel('$y$')\n",
        "plt.xlim([0, 20])\n",
        "plt.savefig('odenn.png')"
      ]
    },
    {
      "cell_type": "code",
      "execution_count": null,
      "metadata": {
        "colab": {
          "base_uri": "https://localhost:8080/"
        },
        "id": "cO0pXCwJ-pMw",
        "outputId": "93b3d8cd-ca2d-4ea1-af97-91c829148894"
      },
      "outputs": [
        {
          "name": "stderr",
          "output_type": "stream",
          "text": [
            "/usr/local/lib/python3.7/dist-packages/autograd/tracer.py:48: RuntimeWarning: overflow encountered in exp\n",
            "  return f_raw(*args, **kwargs)\n"
          ]
        }
      ],
      "source": [
        "y_40=y(params,tfit)"
      ]
    },
    {
      "cell_type": "code",
      "execution_count": null,
      "metadata": {
        "id": "zKa3KdEJ-veI"
      },
      "outputs": [],
      "source": [
        "# Make an initial guess of params:\n",
        "params = init_random_params(0.1, layer_sizes=[1, 50, 1])"
      ]
    },
    {
      "cell_type": "markdown",
      "metadata": {
        "id": "6UJSflC4CaKL"
      },
      "source": [
        "# No. of nodes 50"
      ]
    },
    {
      "cell_type": "code",
      "execution_count": null,
      "metadata": {
        "colab": {
          "base_uri": "https://localhost:8080/"
        },
        "id": "88UHNIvu--tr",
        "outputId": "366b68e7-c28b-4f72-9cb4-76fd1d443ba5"
      },
      "outputs": [
        {
          "name": "stdout",
          "output_type": "stream",
          "text": [
            "Iteration   0 lossfunction [[1.2202077e+10]]\n",
            "Iteration 500 lossfunction [[7.47712034e+09]]\n"
          ]
        },
        {
          "name": "stderr",
          "output_type": "stream",
          "text": [
            "/usr/local/lib/python3.7/dist-packages/autograd/tracer.py:48: RuntimeWarning: overflow encountered in exp\n",
            "  return f_raw(*args, **kwargs)\n"
          ]
        },
        {
          "name": "stdout",
          "output_type": "stream",
          "text": [
            "Iteration 1000 lossfunction [[6.91192013e+09]]\n"
          ]
        },
        {
          "name": "stderr",
          "output_type": "stream",
          "text": [
            "/usr/local/lib/python3.7/dist-packages/autograd/numpy/numpy_vjps.py:53: RuntimeWarning: overflow encountered in square\n",
            "  lambda ans, x, y : unbroadcast_f(y, lambda g: - g * x / y**2))\n"
          ]
        },
        {
          "name": "stdout",
          "output_type": "stream",
          "text": [
            "Iteration 1500 lossfunction [[6.272266e+09]]\n",
            "Iteration 2000 lossfunction [[5.5233064e+09]]\n",
            "Iteration 2500 lossfunction [[4.78648624e+09]]\n",
            "Iteration 3000 lossfunction [[4.13282066e+09]]\n",
            "Iteration 3500 lossfunction [[3.59947455e+09]]\n"
          ]
        },
        {
          "name": "stderr",
          "output_type": "stream",
          "text": [
            "/usr/local/lib/python3.7/dist-packages/autograd/tracer.py:48: RuntimeWarning: overflow encountered in power\n",
            "  return f_raw(*args, **kwargs)\n"
          ]
        },
        {
          "name": "stdout",
          "output_type": "stream",
          "text": [
            "Iteration 4000 lossfunction [[3.20163567e+09]]\n",
            "Iteration 4500 lossfunction [[2.92716433e+09]]\n",
            "Iteration 5000 lossfunction [[2.7493891e+09]]\n",
            "Iteration 5500 lossfunction [[2.63661806e+09]]\n",
            "Iteration 6000 lossfunction [[2.56133442e+09]]\n",
            "Iteration 6500 lossfunction [[2.50672866e+09]]\n"
          ]
        },
        {
          "name": "stderr",
          "output_type": "stream",
          "text": [
            "/usr/local/lib/python3.7/dist-packages/autograd/numpy/numpy_vjps.py:53: RuntimeWarning: overflow encountered in multiply\n",
            "  lambda ans, x, y : unbroadcast_f(y, lambda g: - g * x / y**2))\n",
            "/usr/local/lib/python3.7/dist-packages/autograd/numpy/numpy_vjps.py:53: RuntimeWarning: invalid value encountered in true_divide\n",
            "  lambda ans, x, y : unbroadcast_f(y, lambda g: - g * x / y**2))\n"
          ]
        },
        {
          "name": "stdout",
          "output_type": "stream",
          "text": [
            "Iteration 7000 lossfunction [[nan]]\n",
            "Iteration 7500 lossfunction [[nan]]\n",
            "Iteration 8000 lossfunction [[nan]]\n"
          ]
        }
      ],
      "source": [
        "# ODE solver for 50 nodes\n",
        "begin_at = time.time() \n",
        "params = adam(grad(lossfunction), params,\n",
        "              step_size=0.1, num_iters=10000, callback=callback) \n",
        "end_at = time.time()\n",
        "duration_50 = end_at-begin_at\n",
        "error_50 = float(lossfunction(params, 100000))\n",
        "print(f\" duration for 50 nodes= {duration_50}\")\n",
        "print(f\" error for 50 nodes= {error_50}\")"
      ]
    },
    {
      "cell_type": "code",
      "execution_count": null,
      "metadata": {
        "id": "Qy50GU6Y_OpG"
      },
      "outputs": [],
      "source": [
        "#plot for 50 nodes\n",
        "tfit = np.linspace(0, 20).reshape(-1, 1)\n",
        "import matplotlib.pyplot as plt\n",
        "plt.plot(tfit, y(params, tfit), label='soln') \n",
        "plt.plot(tfit, (((2*x**5)/5)-np.exp(-x)+y0+1), 'r--', label='analytical soln')\n",
        "plt.legend()\n",
        "plt.xlabel('x')\n",
        "plt.ylabel('$y$')\n",
        "plt.xlim([0, 20])\n",
        "plt.savefig('odenn.png')"
      ]
    },
    {
      "cell_type": "code",
      "execution_count": null,
      "metadata": {
        "id": "_OD5tLB5_TWq"
      },
      "outputs": [],
      "source": [
        "y_50=y(params,tfit)"
      ]
    },
    {
      "cell_type": "markdown",
      "metadata": {
        "id": "_uOJJliLCkeS"
      },
      "source": [
        "# No. of nodes 60"
      ]
    },
    {
      "cell_type": "code",
      "execution_count": null,
      "metadata": {
        "id": "YqrMAuwW_WTL"
      },
      "outputs": [],
      "source": [
        "# Make an initial guess of params:\n",
        "params = init_random_params(0.1, layer_sizes=[1, 60, 1])"
      ]
    },
    {
      "cell_type": "code",
      "execution_count": null,
      "metadata": {
        "colab": {
          "background_save": true
        },
        "id": "2-pf-SDZ_e0z",
        "outputId": "fa185e89-319f-4f15-b6f2-d57bb5ef9ac1"
      },
      "outputs": [
        {
          "name": "stdout",
          "output_type": "stream",
          "text": [
            "Iteration   0 lossfunction [[1.22020744e+10]]\n",
            "Iteration 500 lossfunction [[7.33140655e+09]]\n"
          ]
        },
        {
          "name": "stderr",
          "output_type": "stream",
          "text": [
            "/usr/local/lib/python3.7/dist-packages/autograd/tracer.py:48: RuntimeWarning: overflow encountered in exp\n",
            "  return f_raw(*args, **kwargs)\n"
          ]
        },
        {
          "name": "stdout",
          "output_type": "stream",
          "text": [
            "Iteration 1000 lossfunction [[6.67137818e+09]]\n",
            "Iteration 1500 lossfunction [[5.84151362e+09]]\n"
          ]
        },
        {
          "name": "stderr",
          "output_type": "stream",
          "text": [
            "/usr/local/lib/python3.7/dist-packages/autograd/numpy/numpy_vjps.py:53: RuntimeWarning: overflow encountered in square\n",
            "  lambda ans, x, y : unbroadcast_f(y, lambda g: - g * x / y**2))\n"
          ]
        },
        {
          "name": "stdout",
          "output_type": "stream",
          "text": [
            "Iteration 2000 lossfunction [[4.95942699e+09]]\n",
            "Iteration 2500 lossfunction [[4.19545532e+09]]\n",
            "Iteration 3000 lossfunction [[3.63356786e+09]]\n",
            "Iteration 3500 lossfunction [[3.28436277e+09]]\n",
            "Iteration 4000 lossfunction [[3.10179435e+09]]\n",
            "Iteration 4500 lossfunction [[3.02039165e+09]]\n",
            "Iteration 5000 lossfunction [[2.98982087e+09]]\n",
            "Iteration 5500 lossfunction [[2.97985706e+09]]\n",
            "Iteration 6000 lossfunction [[2.9770113e+09]]\n",
            "Iteration 6500 lossfunction [[2.97604775e+09]]\n",
            "Iteration 7000 lossfunction [[2.97576627e+09]]\n",
            "Iteration 7500 lossfunction [[2.97563856e+09]]\n"
          ]
        },
        {
          "name": "stderr",
          "output_type": "stream",
          "text": [
            "/usr/local/lib/python3.7/dist-packages/autograd/tracer.py:48: RuntimeWarning: overflow encountered in power\n",
            "  return f_raw(*args, **kwargs)\n"
          ]
        },
        {
          "name": "stdout",
          "output_type": "stream",
          "text": [
            "Iteration 8000 lossfunction [[2.97572053e+09]]\n",
            "Iteration 8500 lossfunction [[2.97553322e+09]]\n",
            "Iteration 9000 lossfunction [[2.97553769e+09]]\n",
            "Iteration 9500 lossfunction [[2.97555412e+09]]\n",
            " duration for 60 nodes= 43.16299510002136\n",
            " error for 60 nodes= 2975818363.4448166\n"
          ]
        }
      ],
      "source": [
        "# ODE solver for 60 nodes\n",
        "begin_at = time.time() \n",
        "params = adam(grad(lossfunction), params,\n",
        "              step_size=0.1, num_iters=10000, callback=callback) \n",
        "end_at = time.time()\n",
        "duration_60 = end_at-begin_at\n",
        "error_60 = float(lossfunction(params, 100000))\n",
        "print(f\" duration for 60 nodes= {duration_60}\")\n",
        "print(f\" error for 60 nodes= {error_60}\")"
      ]
    },
    {
      "cell_type": "code",
      "execution_count": null,
      "metadata": {
        "colab": {
          "background_save": true
        },
        "id": "7dLuTfMZ_1Iq",
        "outputId": "d44827bb-8bb6-49aa-f9d0-284d2a470914"
      },
      "outputs": [
        {
          "name": "stderr",
          "output_type": "stream",
          "text": [
            "/usr/local/lib/python3.7/dist-packages/autograd/tracer.py:48: RuntimeWarning: overflow encountered in exp\n",
            "  return f_raw(*args, **kwargs)\n"
          ]
        },
        {
          "data": {
            "image/png": "[encoded data removed]",
            "text/plain": [
              "<Figure size 432x288 with 1 Axes>"
            ]
          },
          "metadata": {},
          "output_type": "display_data"
        }
      ],
      "source": [
        "#plot for 60 nodes\n",
        "tfit = np.linspace(0, 20).reshape(-1, 1)\n",
        "import matplotlib.pyplot as plt\n",
        "plt.plot(tfit, y(params, tfit), label='soln') \n",
        "plt.plot(tfit, (((2*x**5)/5)-np.exp(-x)+y0+1), 'r--', label='analytical soln')\n",
        "plt.legend()\n",
        "plt.xlabel('x')\n",
        "plt.ylabel('$y$')\n",
        "plt.xlim([0, 20])\n",
        "plt.savefig('odenn.png')"
      ]
    },
    {
      "cell_type": "code",
      "execution_count": null,
      "metadata": {
        "colab": {
          "background_save": true
        },
        "id": "22zyEabQABwp",
        "outputId": "57c5dea5-1534-47e7-ce61-ef3e1fa403e6"
      },
      "outputs": [
        {
          "name": "stderr",
          "output_type": "stream",
          "text": [
            "/usr/local/lib/python3.7/dist-packages/autograd/tracer.py:48: RuntimeWarning: overflow encountered in exp\n",
            "  return f_raw(*args, **kwargs)\n"
          ]
        }
      ],
      "source": [
        "y_60=y(params,tfit)"
      ]
    },
    {
      "cell_type": "markdown",
      "metadata": {
        "id": "OU2u3GUoCs4K"
      },
      "source": [
        "# No. of nodes 80"
      ]
    },
    {
      "cell_type": "code",
      "execution_count": null,
      "metadata": {
        "colab": {
          "background_save": true
        },
        "id": "umiyRGcuAEz-"
      },
      "outputs": [],
      "source": [
        "# Make an initial guess of params:\n",
        "params = init_random_params(0.1, layer_sizes=[1, 80, 1])"
      ]
    },
    {
      "cell_type": "code",
      "execution_count": null,
      "metadata": {
        "colab": {
          "background_save": true
        },
        "id": "FZtWX6sEAbvy",
        "outputId": "ebcab264-9460-4f68-e1c5-576ce421c560"
      },
      "outputs": [
        {
          "name": "stdout",
          "output_type": "stream",
          "text": [
            "Iteration   0 lossfunction [[1.2202083e+10]]\n",
            "Iteration 500 lossfunction [[7.38278433e+09]]\n",
            "Iteration 1000 lossfunction [[6.88744184e+09]]\n",
            "Iteration 1500 lossfunction [[6.24536918e+09]]\n"
          ]
        },
        {
          "name": "stderr",
          "output_type": "stream",
          "text": [
            "/usr/local/lib/python3.7/dist-packages/autograd/tracer.py:48: RuntimeWarning: overflow encountered in exp\n",
            "  return f_raw(*args, **kwargs)\n"
          ]
        },
        {
          "name": "stdout",
          "output_type": "stream",
          "text": [
            "Iteration 2000 lossfunction [[5.51066166e+09]]\n",
            "Iteration 2500 lossfunction [[4.75505897e+09]]\n"
          ]
        },
        {
          "name": "stderr",
          "output_type": "stream",
          "text": [
            "/usr/local/lib/python3.7/dist-packages/autograd/numpy/numpy_vjps.py:53: RuntimeWarning: overflow encountered in square\n",
            "  lambda ans, x, y : unbroadcast_f(y, lambda g: - g * x / y**2))\n"
          ]
        },
        {
          "name": "stdout",
          "output_type": "stream",
          "text": [
            "Iteration 3000 lossfunction [[4.04067174e+09]]\n",
            "Iteration 3500 lossfunction [[3.40443516e+09]]\n",
            "Iteration 4000 lossfunction [[2.87375702e+09]]\n",
            "Iteration 4500 lossfunction [[2.46431121e+09]]\n",
            "Iteration 5000 lossfunction [[2.17670142e+09]]\n",
            "Iteration 5500 lossfunction [[1.99576539e+09]]\n",
            "Iteration 6000 lossfunction [[1.89334217e+09]]\n",
            "Iteration 6500 lossfunction [[1.83976019e+09]]\n",
            "Iteration 7000 lossfunction [[1.81322617e+09]]\n"
          ]
        },
        {
          "name": "stderr",
          "output_type": "stream",
          "text": [
            "/usr/local/lib/python3.7/dist-packages/autograd/tracer.py:48: RuntimeWarning: overflow encountered in power\n",
            "  return f_raw(*args, **kwargs)\n"
          ]
        },
        {
          "name": "stdout",
          "output_type": "stream",
          "text": [
            "Iteration 7500 lossfunction [[1.79803995e+09]]\n",
            "Iteration 8000 lossfunction [[1.78778897e+09]]\n",
            "Iteration 8500 lossfunction [[1.78118117e+09]]\n",
            "Iteration 9000 lossfunction [[1.77695062e+09]]\n",
            "Iteration 9500 lossfunction [[1.77417352e+09]]\n",
            " duration for 80 nodes= 44.590559005737305\n",
            " error for 80 nodes= 1772191280.6630428\n"
          ]
        }
      ],
      "source": [
        "# ODE solver for 80 nodes\n",
        "begin_at = time.time() \n",
        "params = adam(grad(lossfunction), params,\n",
        "              step_size=0.1, num_iters=10000, callback=callback) \n",
        "end_at = time.time()\n",
        "duration_80 = end_at-begin_at\n",
        "error_80 = float(lossfunction(params, 100000))\n",
        "print(f\" duration for 80 nodes= {duration_80}\")\n",
        "print(f\" error for 80 nodes= {error_80}\")"
      ]
    },
    {
      "cell_type": "code",
      "execution_count": null,
      "metadata": {
        "colab": {
          "background_save": true
        },
        "id": "i_ERbdzqAdty",
        "outputId": "af39e6b5-4b8f-4cd4-ea70-67827a058b96"
      },
      "outputs": [
        {
          "name": "stderr",
          "output_type": "stream",
          "text": [
            "/usr/local/lib/python3.7/dist-packages/autograd/tracer.py:48: RuntimeWarning: overflow encountered in exp\n",
            "  return f_raw(*args, **kwargs)\n"
          ]
        },
        {
          "data": {
            "image/png": "[encoded data removed]",
            "text/plain": [
              "<Figure size 432x288 with 1 Axes>"
            ]
          },
          "metadata": {},
          "output_type": "display_data"
        }
      ],
      "source": [
        "#plot for 80 nodes\n",
        "tfit = np.linspace(0, 20).reshape(-1, 1)\n",
        "import matplotlib.pyplot as plt\n",
        "plt.plot(tfit, y(params, tfit), label='soln') \n",
        "plt.plot(tfit, (((2*x**5)/5)-np.exp(-x)+y0+1), 'r--', label='analytical soln')\n",
        "plt.legend()\n",
        "plt.xlabel('x')\n",
        "plt.ylabel('$y$')\n",
        "plt.xlim([0, 20])\n",
        "plt.savefig('odenn.png')"
      ]
    },
    {
      "cell_type": "code",
      "execution_count": null,
      "metadata": {
        "colab": {
          "background_save": true
        },
        "id": "CVLqJFhkBN0p",
        "outputId": "7da1c691-6610-414f-941c-735032a7c177"
      },
      "outputs": [
        {
          "name": "stderr",
          "output_type": "stream",
          "text": [
            "/usr/local/lib/python3.7/dist-packages/autograd/tracer.py:48: RuntimeWarning: overflow encountered in exp\n",
            "  return f_raw(*args, **kwargs)\n"
          ]
        }
      ],
      "source": [
        "y_80=y(params,tfit)"
      ]
    },
    {
      "cell_type": "markdown",
      "metadata": {
        "id": "PwYoO94HC6UK"
      },
      "source": [
        "# No. of nodes 90"
      ]
    },
    {
      "cell_type": "code",
      "execution_count": null,
      "metadata": {
        "colab": {
          "background_save": true
        },
        "id": "6Frp7HjwBXLS"
      },
      "outputs": [],
      "source": [
        "# Make an initial guess of params:\n",
        "params = init_random_params(0.1, layer_sizes=[1, 90, 1])"
      ]
    },
    {
      "cell_type": "code",
      "execution_count": null,
      "metadata": {
        "colab": {
          "background_save": true
        },
        "id": "DJL5zMm7BQ1n",
        "outputId": "3cc67451-ed75-4413-c5a0-c96309f124c1"
      },
      "outputs": [
        {
          "name": "stdout",
          "output_type": "stream",
          "text": [
            "Iteration   0 lossfunction [[1.22020732e+10]]\n",
            "Iteration 500 lossfunction [[7.45414524e+09]]\n",
            "Iteration 1000 lossfunction [[7.13713094e+09]]\n",
            "Iteration 1500 lossfunction [[6.69954042e+09]]\n"
          ]
        },
        {
          "name": "stderr",
          "output_type": "stream",
          "text": [
            "/usr/local/lib/python3.7/dist-packages/autograd/numpy/numpy_vjps.py:53: RuntimeWarning: overflow encountered in square\n",
            "  lambda ans, x, y : unbroadcast_f(y, lambda g: - g * x / y**2))\n"
          ]
        },
        {
          "name": "stdout",
          "output_type": "stream",
          "text": [
            "Iteration 2000 lossfunction [[6.20630787e+09]]\n"
          ]
        },
        {
          "name": "stderr",
          "output_type": "stream",
          "text": [
            "/usr/local/lib/python3.7/dist-packages/autograd/tracer.py:48: RuntimeWarning: overflow encountered in exp\n",
            "  return f_raw(*args, **kwargs)\n"
          ]
        },
        {
          "name": "stdout",
          "output_type": "stream",
          "text": [
            "Iteration 2500 lossfunction [[5.67198777e+09]]\n",
            "Iteration 3000 lossfunction [[5.10457215e+09]]\n",
            "Iteration 3500 lossfunction [[4.54834723e+09]]\n",
            "Iteration 4000 lossfunction [[4.01659295e+09]]\n",
            "Iteration 4500 lossfunction [[3.5166186e+09]]\n",
            "Iteration 5000 lossfunction [[3.05699305e+09]]\n",
            "Iteration 5500 lossfunction [[2.63652423e+09]]\n",
            "Iteration 6000 lossfunction [[2.25071087e+09]]\n",
            "Iteration 6500 lossfunction [[1.90292806e+09]]\n",
            "Iteration 7000 lossfunction [[1.59819667e+09]]\n",
            "Iteration 7500 lossfunction [[1.34193574e+09]]\n",
            "Iteration 8000 lossfunction [[1.13564144e+09]]\n",
            "Iteration 8500 lossfunction [[9.77345501e+08]]\n",
            "Iteration 9000 lossfunction [[8.61981131e+08]]\n",
            "Iteration 9500 lossfunction [[7.82007297e+08]]\n"
          ]
        },
        {
          "name": "stderr",
          "output_type": "stream",
          "text": [
            "/usr/local/lib/python3.7/dist-packages/autograd/tracer.py:48: RuntimeWarning: overflow encountered in power\n",
            "  return f_raw(*args, **kwargs)\n"
          ]
        },
        {
          "name": "stdout",
          "output_type": "stream",
          "text": [
            " duration for 90 nodes= 44.22644925117493\n",
            " error for 90 nodes= 727804659.4938858\n"
          ]
        }
      ],
      "source": [
        "# ODE solver for 90 nodes\n",
        "begin_at = time.time() \n",
        "params = adam(grad(lossfunction), params,\n",
        "              step_size=0.1, num_iters=10000, callback=callback) \n",
        "end_at = time.time()\n",
        "duration_90 = end_at-begin_at\n",
        "error_90 = float(lossfunction(params, 100000))\n",
        "print(f\" duration for 90 nodes= {duration_90}\")\n",
        "print(f\" error for 90 nodes= {error_90}\")"
      ]
    },
    {
      "cell_type": "code",
      "execution_count": null,
      "metadata": {
        "colab": {
          "background_save": true
        },
        "id": "7V4kgy8nB0Gq",
        "outputId": "617b1919-a101-4c45-d5fb-e5c79da39eab"
      },
      "outputs": [
        {
          "data": {
            "image/png": "[encoded data removed]",
            "text/plain": [
              "<Figure size 432x288 with 1 Axes>"
            ]
          },
          "metadata": {},
          "output_type": "display_data"
        }
      ],
      "source": [
        "#plot for 90 nodes\n",
        "tfit = np.linspace(0, 20).reshape(-1, 1)\n",
        "import matplotlib.pyplot as plt\n",
        "plt.plot(tfit, y(params, tfit), label='soln') \n",
        "plt.plot(tfit, (((2*x**5)/5)-np.exp(-x)+y0+1), 'r--', label='analytical soln')\n",
        "plt.legend()\n",
        "plt.xlabel('x')\n",
        "plt.ylabel('$y$')\n",
        "plt.xlim([0, 20])\n",
        "plt.savefig('odenn.png')"
      ]
    },
    {
      "cell_type": "code",
      "execution_count": null,
      "metadata": {
        "colab": {
          "background_save": true
        },
        "id": "JMT9v9OoCEby"
      },
      "outputs": [],
      "source": [
        "y_90=y(params,tfit)"
      ]
    },
    {
      "cell_type": "markdown",
      "metadata": {
        "id": "bp8BRmAoDwJy"
      },
      "source": [
        "# Plot for node VS. Duration"
      ]
    },
    {
      "cell_type": "code",
      "execution_count": null,
      "metadata": {
        "colab": {
          "background_save": true
        },
        "id": "bBILP94-CK-w"
      },
      "outputs": [],
      "source": [
        "Nodes=[10,20,30,40,50,60,80,90]\n",
        "Duration=[duration_10,duration_20,duration_30,duration_40,duration_50,duration_60,duration_80,duration_90]\n",
        "Error=[error_10,error_20,error_30,error_40,error_50,error_60,error_80,error_90]"
      ]
    },
    {
      "cell_type": "code",
      "execution_count": null,
      "metadata": {
        "colab": {
          "background_save": true
        },
        "id": "FIRvpDu1EAmD",
        "outputId": "5e550a4e-3485-4aa6-f0b7-6e16d05d3206"
      },
      "outputs": [
        {
          "data": {
            "image/png": "[encoded data removed]",
            "text/plain": [
              "<Figure size 432x288 with 1 Axes>"
            ]
          },
          "metadata": {},
          "output_type": "display_data"
        }
      ],
      "source": [
        "import matplotlib.pyplot as plt\n",
        "plt.plot(Nodes,Duration,label='Nodes vs duration') \n",
        "plt.legend()\n",
        "plt.xlabel('Nodes')\n",
        "plt.ylabel('Duration')\n",
        "#plt.xlim([0, 20])\n",
        "plt.savefig('odenn.png')"
      ]
    },
    {
      "cell_type": "code",
      "execution_count": null,
      "metadata": {
        "colab": {
          "background_save": true
        },
        "id": "qqu60qPHFLCE",
        "outputId": "50f08877-3653-4201-8aff-a923a36a8967"
      },
      "outputs": [
        {
          "data": {
            "image/png": "[encoded data removed]",
            "text/plain": [
              "<Figure size 432x288 with 1 Axes>"
            ]
          },
          "metadata": {},
          "output_type": "display_data"
        }
      ],
      "source": [
        "import matplotlib.pyplot as plt\n",
        "plt.plot(Nodes,Error,label='Nodes vs error') \n",
        "plt.legend()\n",
        "plt.xlabel('Nodes')\n",
        "plt.ylabel('Error')\n",
        "#plt.xlim([0, 20])\n",
        "plt.savefig('odenn.png')"
      ]
    }
  ],
  "metadata": {
    "colab": {
      "name": "use _idea of Autograd.ipynb",
      "provenance": []
    },
    "kernelspec": {
      "display_name": "Python 3 (ipykernel)",
      "language": "python",
      "name": "python3"
    },
    "language_info": {
      "codemirror_mode": {
        "name": "ipython",
        "version": 3
      },
      "file_extension": ".py",
      "mimetype": "text/x-python",
      "name": "python",
      "nbconvert_exporter": "python",
      "pygments_lexer": "ipython3",
      "version": "3.9.7"
    }
  },
  "nbformat": 4,
  "nbformat_minor": 0
}